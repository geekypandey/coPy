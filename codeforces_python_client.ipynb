{
 "cells": [
  {
   "cell_type": "code",
   "execution_count": null,
   "id": "a4ac3cd2",
   "metadata": {},
   "outputs": [],
   "source": [
    "# default_exp core"
   ]
  },
  {
   "cell_type": "markdown",
   "id": "791d539d",
   "metadata": {},
   "source": [
    "# Python Wrapper for Codeforces API\n",
    "\n",
    "Some methods are protected, requiring the api_key and secret."
   ]
  },
  {
   "cell_type": "code",
   "execution_count": null,
   "id": "0bd3a35f",
   "metadata": {},
   "outputs": [],
   "source": [
    "#hide\n",
    "from nbdev.showdoc import *"
   ]
  },
  {
   "cell_type": "markdown",
   "id": "4f037e6d",
   "metadata": {},
   "source": [
    "#### Importing Required libraries"
   ]
  },
  {
   "cell_type": "code",
   "execution_count": null,
   "id": "a10c9b47",
   "metadata": {},
   "outputs": [],
   "source": [
    "#export\n",
    "import datetime\n",
    "import hashlib\n",
    "import random\n",
    "import string\n",
    "import time\n",
    "\n",
    "import requests\n",
    "import inflection"
   ]
  },
  {
   "cell_type": "markdown",
   "id": "28155885",
   "metadata": {},
   "source": [
    "`inflection` library is used to convert CamelCasing to underscore(or snake casing)"
   ]
  },
  {
   "cell_type": "markdown",
   "id": "5f88f692",
   "metadata": {},
   "source": [
    "#### Code"
   ]
  },
  {
   "cell_type": "markdown",
   "id": "3432293e",
   "metadata": {},
   "source": [
    "`Container` class will act as a container to store different types of data.\n",
    "This would be useful for different aggregation operations like, filetering, counting etc.\n",
    "Also user would be able to use it as noraml list too for other operations."
   ]
  },
  {
   "cell_type": "code",
   "execution_count": null,
   "id": "a5977e7f",
   "metadata": {},
   "outputs": [],
   "source": [
    "# default_exp types"
   ]
  },
  {
   "cell_type": "code",
   "execution_count": null,
   "id": "11f72019",
   "metadata": {},
   "outputs": [],
   "source": [
    "#export\n",
    "class Container:\n",
    "#     _item = None\n",
    "    def __init__(self, data, validate=True):\n",
    "        self.data = data\n",
    "#         self._validate_data()\n",
    "        \n",
    "    def __len__(self):\n",
    "        return len(self.data)\n",
    "    \n",
    "#     def _validate_data(self):\n",
    "#         if _item is None:\n",
    "#             raise Exception('item type is not defined')\n",
    "#         keys = self._item.__dict__\n",
    "#         for d in self.data:\n",
    "#             if not all(k in keys for k in d):\n",
    "#                 raise ValueError('keys not matching')"
   ]
  },
  {
   "cell_type": "markdown",
   "id": "3ba2e4c4",
   "metadata": {},
   "source": [
    "`Base` class will support the repetitive operation of setting different fields of classes."
   ]
  },
  {
   "cell_type": "code",
   "execution_count": null,
   "id": "3cf31c5f",
   "metadata": {},
   "outputs": [],
   "source": [
    "#export\n",
    "class Base:\n",
    "    _fields = None\n",
    "    def __init__(self, content: dict) -> None:\n",
    "        self.init(content)\n",
    "        \n",
    "    def init(self, content: dict) -> None:\n",
    "        if not self._fields:\n",
    "            raise ValueError('_fields is not set for the class')\n",
    "        for field, val_type in self._fields.items():\n",
    "            val = content.get(field)\n",
    "            if val is None:\n",
    "                setattr(self, inflection.underscore(field), val)\n",
    "            else:\n",
    "                setattr(self, inflection.underscore(field), val_type(val))\n",
    "            \n",
    "    def __repr__(self):\n",
    "        return str(self.__dict__)"
   ]
  },
  {
   "cell_type": "markdown",
   "id": "e50f78a3",
   "metadata": {},
   "source": [
    "Contests"
   ]
  },
  {
   "cell_type": "code",
   "execution_count": null,
   "id": "404d9da9",
   "metadata": {},
   "outputs": [],
   "source": [
    "#export\n",
    "class Contest(Base):\n",
    "    _fields = {\n",
    "        'id': int,\n",
    "        'name': str,\n",
    "        'type': str,\n",
    "        'phase': str,\n",
    "        'frozen': bool,\n",
    "        'durationSeconds': int,\n",
    "        'startTimeSeconds': int,\n",
    "        'relativeTimeSeconds': int,\n",
    "        'preparedBy': int,\n",
    "        'websiteUrl': str,\n",
    "        'description': str,\n",
    "        'difficulty': int,\n",
    "        'kind': str,\n",
    "        'icpcRegion': str,\n",
    "        'country': str,\n",
    "        'city': str,\n",
    "        'season': str,\n",
    "    }\n",
    "    \n",
    "    def __init__(self, contest):\n",
    "        super().__init__(contest)\n",
    "        self.duration_hours = self.duration_seconds / (60*60)\n",
    "        if self.start_time_seconds:\n",
    "            self.start_time = datetime.datetime.fromtimestamp(self.start_time_seconds)\n",
    "            self.end_time = self.start_time + datetime.timedelta(seconds=self.duration_seconds)\n",
    "            \n",
    "class Contests(Container):\n",
    "#     _item = Contest\n",
    "    pass"
   ]
  },
  {
   "cell_type": "code",
   "execution_count": null,
   "id": "3f5caf7b",
   "metadata": {},
   "outputs": [],
   "source": [
    "#export\n",
    "class Problem(Base):\n",
    "    _fields = {\n",
    "        'contestId': int,\n",
    "        'problemsetName': str,\n",
    "        'index': str,\n",
    "        'name': str,\n",
    "        'type': str,\n",
    "        'points': float,\n",
    "        'rating': int,\n",
    "        'tags': list,\n",
    "    }\n",
    "    \n",
    "class Problems(Container):\n",
    "#     _item = Problem\n",
    "    pass"
   ]
  },
  {
   "cell_type": "code",
   "execution_count": null,
   "id": "1b971463",
   "metadata": {},
   "outputs": [],
   "source": [
    "#export\n",
    "class ProblemStatistics(Base):\n",
    "    _fields = {\n",
    "        'contestId': int,\n",
    "        'index': str,\n",
    "        'solvedCount': int\n",
    "    }"
   ]
  },
  {
   "cell_type": "code",
   "execution_count": null,
   "id": "ccf8ad96",
   "metadata": {},
   "outputs": [],
   "source": [
    "#export\n",
    "class User(Base):\n",
    "    _fields = {\n",
    "        'handle': str,\n",
    "        'email': str,\n",
    "        'vkId': str,\n",
    "        'openId': str,\n",
    "        'firstName': str,\n",
    "        'lastName': str,\n",
    "        'country': str,\n",
    "        'city': str,\n",
    "        'organization': str,\n",
    "        'contribution': int,\n",
    "        'rank': str,\n",
    "        'rating': int,\n",
    "        'maxRank': str,\n",
    "        'maxRating': int,\n",
    "        'lastOnlineTimeSeconds': int,\n",
    "        'registrationTimeSeconds': int,\n",
    "        'friendOfCount': int,\n",
    "        'avatar': str,\n",
    "        'titlePhoto': str\n",
    "    }"
   ]
  },
  {
   "cell_type": "code",
   "execution_count": null,
   "id": "a4f726bc",
   "metadata": {},
   "outputs": [],
   "source": [
    "#export\n",
    "class UserRating(Base):\n",
    "    _fields = {\n",
    "        'contestId': int,\n",
    "        'contestName': str,\n",
    "        'handle': str,\n",
    "        'rank': int,\n",
    "        'ratingUpdateTimeSeconds': int,\n",
    "        'oldRating': int,\n",
    "        'newRating': int\n",
    "    }"
   ]
  },
  {
   "cell_type": "code",
   "execution_count": null,
   "id": "b1ef8634",
   "metadata": {},
   "outputs": [],
   "source": [
    "#export\n",
    "class BlogEntry(Base):\n",
    "    _fields = {\n",
    "        'id': int,\n",
    "        'originalLocale': str,\n",
    "        'creationTimeSeconds': int,\n",
    "        'authorHandle': str,\n",
    "        'title': str,\n",
    "        'content': str,\n",
    "        'locale': str,\n",
    "        'modificationTimeSeconds': int,\n",
    "        'allowViewHistory': bool,\n",
    "        'tags': list,\n",
    "        'rating': int\n",
    "    }"
   ]
  },
  {
   "cell_type": "code",
   "execution_count": null,
   "id": "371fcffd",
   "metadata": {},
   "outputs": [],
   "source": [
    "#export\n",
    "class Comment(Base):\n",
    "    _fields = {\n",
    "        'id': int,\n",
    "        'creationTimeSeconds': int,\n",
    "        'commentatorHandle': str,\n",
    "        'locale': str,\n",
    "        'text': str,\n",
    "        'parentCommentId': int,\n",
    "        'rating': int\n",
    "    }"
   ]
  },
  {
   "cell_type": "code",
   "execution_count": null,
   "id": "deb7d12f",
   "metadata": {},
   "outputs": [],
   "source": [
    "#export\n",
    "class Party(Base):\n",
    "    _fields = {\n",
    "        'contestId': int,\n",
    "        'members': list,\n",
    "        'participantType': str,\n",
    "        'teamId': int,\n",
    "        'teamName': str,\n",
    "        'ghost': bool,\n",
    "        'room': int,\n",
    "        'startTimeSeconds': int\n",
    "    }"
   ]
  },
  {
   "cell_type": "code",
   "execution_count": null,
   "id": "61eec0b8",
   "metadata": {},
   "outputs": [],
   "source": [
    "#export\n",
    "class ProblemResult(Base):\n",
    "    _fields = {\n",
    "        'points': float,\n",
    "        'penalty': int,\n",
    "        'rejectedAttemptCount': int,\n",
    "        'type': str,\n",
    "        'bestSubmissionTimeSeconds': int\n",
    "    }"
   ]
  },
  {
   "cell_type": "code",
   "execution_count": null,
   "id": "1f359f3b",
   "metadata": {},
   "outputs": [],
   "source": [
    "#export\n",
    "class RecentAction(Base):\n",
    "    _fields = {\n",
    "        'timeSeconds': int,\n",
    "        'blogEntry': BlogEntry,\n",
    "        'comment': Comment\n",
    "    }"
   ]
  },
  {
   "cell_type": "code",
   "execution_count": null,
   "id": "25da6d1f",
   "metadata": {},
   "outputs": [],
   "source": [
    "#export\n",
    "class Hack(Base):\n",
    "    _fields = {\n",
    "        'id': int,\n",
    "        'creationTiemSeconds': int,\n",
    "        'hacker': Party,\n",
    "        'defender': Party,\n",
    "        'verdict': str,\n",
    "        'problem': Problem,\n",
    "        'test': str,\n",
    "        'judgeProtocol': object\n",
    "    }"
   ]
  },
  {
   "cell_type": "code",
   "execution_count": null,
   "id": "d4e1556a",
   "metadata": {},
   "outputs": [],
   "source": [
    "#export\n",
    "class Submission(Base):\n",
    "    _fields = {\n",
    "        'id': int,\n",
    "        'contestId': int,\n",
    "        'creationTimeSeconds': int,\n",
    "        'relativeTimeSeconds': int,\n",
    "        'problem': Problem,\n",
    "        'author': Party,\n",
    "        'programmingLanguage': str,\n",
    "        'verdict': str,\n",
    "        'testset': str,\n",
    "        'passedTestCount': int,\n",
    "        'timeConsumedMillis': int,\n",
    "        'memoryConsumedBytes': int,\n",
    "        'points': float\n",
    "    }"
   ]
  },
  {
   "cell_type": "code",
   "execution_count": null,
   "id": "a00e09fb",
   "metadata": {},
   "outputs": [],
   "source": [
    "#export\n",
    "class RanklistRow(Base):\n",
    "    _fields = {\n",
    "        'party': Party,\n",
    "        'rank': int,\n",
    "        'points': float,\n",
    "        'penalty': int,\n",
    "        'successfulHackCount': int,\n",
    "        'unsuccessfulHackCount': int,\n",
    "        'problemResults': list,\n",
    "        'lastSubmissionTimeSeconds': int\n",
    "    }"
   ]
  },
  {
   "cell_type": "code",
   "execution_count": null,
   "id": "3d225923",
   "metadata": {},
   "outputs": [],
   "source": [
    "#export\n",
    "class Standings(Base):\n",
    "    _fields = {\n",
    "        'contest': Contest,\n",
    "        'problems': list,\n",
    "        'rows': list,\n",
    "    }"
   ]
  },
  {
   "cell_type": "code",
   "execution_count": null,
   "id": "a29401da",
   "metadata": {},
   "outputs": [],
   "source": [
    "#export\n",
    "class CFApi:\n",
    "    _BASE_API = 'https://codeforces.com/api/'\n",
    "    \n",
    "    def __init__(self, api_key=None, secret=None, lang='eu'):\n",
    "        self.api_key = api_key\n",
    "        self.secret = secret\n",
    "        self.lang = lang\n",
    "        self.anonymous = True\n",
    "        # check for supply of both\n",
    "        if self.api_key and self.secret:\n",
    "            self.anonymous = False\n",
    "        \n",
    "    \n",
    "    def _generate_secret_params(self, method_name: str, params) -> dict: \n",
    "        cur_time = int(time.time())\n",
    "        rand_char = random.choices(string.printable, k=6)\n",
    "        rand_char = \"\".join(rand_char)\n",
    "        \n",
    "        params['apiKey'] = self.api_key\n",
    "        params['time'] = str(cur_time)\n",
    "        sorted_params = {key: val for key, val in sorted(params.items())}  # only for Python3.6 and above\n",
    "        params_encoded = requests.urllib3.request.urlencode(sorted_params, safe=';')\n",
    "        \n",
    "        api_sig = f'{rand_char}/{method_name}?{params_encoded}#{self.secret}'\n",
    "        api_sig = api_sig.encode('utf-8')\n",
    "        api_sig = hashlib.sha512(api_sig).hexdigest()\n",
    "        secret_params = {\n",
    "            'apiKey': self.api_key,\n",
    "            'time': str(cur_time),\n",
    "            'apiSig': rand_char + api_sig\n",
    "        }\n",
    "        return secret_params\n",
    "    \n",
    "    \n",
    "    def _get_data(self, method_name: str, params: dict = None):\n",
    "        url = self._BASE_API + method_name\n",
    "        cur_time = datetime.datetime.now().timestamp()\n",
    "        if params is None:\n",
    "            params = {}\n",
    "        \n",
    "        if not self.anonymous:\n",
    "            secret_params = self._generate_secret_params(method_name, params)\n",
    "            params.update(secret_params)\n",
    "            \n",
    "        res = requests.get(url, params=params)\n",
    "        if res.status_code != 200:\n",
    "            pass # raise Error\n",
    "        res = res.json()\n",
    "        if res['status'] != 'OK':\n",
    "            raise Exception(res)\n",
    "        return res['result']\n",
    "    \n",
    "    \n",
    "    def get_contests(self, gym=False):\n",
    "        method_name = 'contest.list'\n",
    "        params = {'gym': gym}\n",
    "        contests = self._get_data(method_name, params)\n",
    "        contests = [Contest(contest) for contest in contests]\n",
    "        return Contests(contests)\n",
    "    \n",
    "    \n",
    "    def get_problems(self, tags=None):\n",
    "        method_name = 'problemset.problems'\n",
    "        if isinstance(tags, str):\n",
    "            tags = [tags]\n",
    "        if tags:\n",
    "            tags = \";\".join(tags)\n",
    "        params = {'tags': tags}\n",
    "        res = self._get_data(method_name, params)\n",
    "        problems = [Problem(problem) for problem in res['problems']]\n",
    "        return Problems(problems)\n",
    "    \n",
    "    \n",
    "    def get_user_info(self, handles):\n",
    "        method_name = 'user.info'\n",
    "        if isinstance(handles, str):\n",
    "            handles = [handles]\n",
    "        handles = \";\".join(handles)\n",
    "        params = {'handles': handles}\n",
    "        users = self._get_data(method_name, params)\n",
    "        users = [User(user) for user in users]\n",
    "        return users\n",
    "    \n",
    "    \n",
    "    def get_user_ratings(self, handle):\n",
    "        method_name = 'user.rating'\n",
    "        params = {'handle': handle}\n",
    "        user_ratings = self._get_data(method_name, params)\n",
    "        user_ratings = [UserRating(rating) for rating in user_ratings]\n",
    "        return user_ratings\n",
    "    \n",
    "    \n",
    "    def get_user_submissions(self, handle: str):\n",
    "        # from and count\n",
    "        method_name = 'user.status'\n",
    "        params = {'handle': handle}\n",
    "        submissions = self._get_data(method_name, params)\n",
    "        submissions = [Submission(submission) for submission in submissions]\n",
    "        return submissions\n",
    "    \n",
    "    \n",
    "    def get_blog_comments(self, blog_id: int) -> Comment:\n",
    "        method_name = 'blogEntry.comments'\n",
    "        params = {'blogEntryId': blog_id}\n",
    "        comments = self._get_data(method_name, params)\n",
    "        comments = [Comment(comment) for comment in comments]\n",
    "        return comments\n",
    "    \n",
    "    \n",
    "    def get_blog_entry(self, blog_id: int) -> BlogEntry:\n",
    "        method_name = 'blogEntry.comments'\n",
    "        params = {'blogEntryId': blog_id}\n",
    "        blog = self._get_data(method_name, params)\n",
    "        blog = BlogEntry(blog)\n",
    "        return blog\n",
    "    \n",
    "    def get_contest_standings(self, contest_id: int):\n",
    "        method_name = 'contest.standings'\n",
    "        params = {'contestId': contest_id}\n",
    "        standings = self._get_data(method_name, params)\n",
    "        standings = Standings(standings)\n",
    "        return standings"
   ]
  },
  {
   "cell_type": "code",
   "execution_count": null,
   "id": "197ace39",
   "metadata": {},
   "outputs": [],
   "source": [
    "cf = CFApi(api_key='dda63ac21340ffbc5bfe4c7b76c31295892df335', secret='cda026f1e19753c89c5016741f2a722596064a13')\n",
    "contests = cf.get_contests()"
   ]
  },
  {
   "cell_type": "code",
   "execution_count": null,
   "id": "18bfe5ef",
   "metadata": {},
   "outputs": [
    {
     "data": {
      "text/plain": [
       "<__main__.Contests at 0x7fe01b3b7730>"
      ]
     },
     "execution_count": null,
     "metadata": {},
     "output_type": "execute_result"
    }
   ],
   "source": [
    "contests"
   ]
  },
  {
   "cell_type": "code",
   "execution_count": null,
   "id": "c063085e",
   "metadata": {},
   "outputs": [],
   "source": []
  }
 ],
 "metadata": {
  "kernelspec": {
   "display_name": "codeforces_python_client",
   "language": "python",
   "name": "codeforces_python_client"
  }
 },
 "nbformat": 4,
 "nbformat_minor": 5
}
