{
 "cells": [
  {
   "cell_type": "code",
   "execution_count": null,
   "id": "340db186",
   "metadata": {},
   "outputs": [],
   "source": [
    "#default_exp core"
   ]
  },
  {
   "cell_type": "markdown",
   "id": "a063c039",
   "metadata": {},
   "source": [
    "# Python Wrapper for Codeforces API\n",
    "> Wrapper around the codeforces api. Documentation for codeforces api can be found [here](https://codeforces.com/apiHelp)"
   ]
  },
  {
   "cell_type": "markdown",
   "id": "a5402660",
   "metadata": {},
   "source": [
    "## Importing Required Libraries"
   ]
  },
  {
   "cell_type": "code",
   "execution_count": null,
   "id": "1affbf3c",
   "metadata": {},
   "outputs": [],
   "source": [
    "#export\n",
    "import datetime\n",
    "import hashlib\n",
    "import random\n",
    "import string\n",
    "import time\n",
    "\n",
    "import requests\n",
    "\n",
    "from co_py.types import *"
   ]
  },
  {
   "cell_type": "markdown",
   "id": "7253039e",
   "metadata": {},
   "source": [
    "## CFApi"
   ]
  },
  {
   "cell_type": "markdown",
   "id": "6c74d71e",
   "metadata": {},
   "source": [
    "> Base URL for the codeforces API - `https://codeforces.com/api/{method_name}`"
   ]
  },
  {
   "cell_type": "markdown",
   "id": "0ccc3a3a",
   "metadata": {},
   "source": [
    "The codeforces API supports two different languages: 'eu' and 'ru'. By default lang='eu' is set.\n",
    "\n",
    "Some methods requires `api_key` and `secret` for authentication"
   ]
  },
  {
   "cell_type": "code",
   "execution_count": null,
   "id": "b2067e21",
   "metadata": {},
   "outputs": [],
   "source": [
    "#export\n",
    "class CFApi:\n",
    "    _BASE_API = 'https://codeforces.com/api/'\n",
    "    LANG = ('en', 'ru')\n",
    "    \n",
    "    def __init__(self, api_key: str = None, secret: str = None, lang='en'):\n",
    "        self.api_key = api_key\n",
    "        self.secret = secret\n",
    "        self.lang = lang\n",
    "        self.anonymous = True\n",
    "        # check both key and secret are supplied\n",
    "        if self.api_key and self.secret:\n",
    "            self.anonymous = False\n",
    "        # if one is provided and the other is not, raise Error\n",
    "        if (self.api_key is None) ^ (self.secret is None):\n",
    "            raise Exception('both key are secret are required')\n",
    "        if self.lang not in self.LANG:\n",
    "            raise Exception(f'{self.lang:} is not supported')\n",
    "    \n",
    "    \n",
    "    def _generate_secret_params(self, method_name: str, params) -> dict:\n",
    "        \"\"\"Generates the parameters required for the authentication purpose\"\"\"\n",
    "        cur_time = int(time.time())\n",
    "        rand_options = string.printable[:62]\n",
    "        rand_char = random.choices(rand_options, k=6)\n",
    "        rand_char = \"\".join(rand_char)\n",
    "        \n",
    "        params['apiKey'] = self.api_key\n",
    "        params['time'] = str(cur_time)\n",
    "\n",
    "        sorted_params = {key: val for key, val in sorted(params.items())}  # only for Python3.6 and above\n",
    "        params_encoded = requests.urllib3.request.urlencode(sorted_params, safe=';')\n",
    "        \n",
    "        api_sig = f'{rand_char}/{method_name}?{params_encoded}#{self.secret}'\n",
    "        api_sig = api_sig.encode('utf-8')\n",
    "        api_sig = hashlib.sha512(api_sig).hexdigest()\n",
    "        secret_params = {\n",
    "            'apiKey': self.api_key,\n",
    "            'time': str(cur_time),\n",
    "            'apiSig': rand_char + api_sig\n",
    "        }\n",
    "        return secret_params\n",
    "    \n",
    "    \n",
    "    def _get_data(self, method_name: str, params: dict = None):\n",
    "        url = self._BASE_API + method_name\n",
    "        cur_time = datetime.datetime.now().timestamp()\n",
    "        if params is None:\n",
    "            params = {}\n",
    "        \n",
    "        if not self.anonymous:\n",
    "            secret_params = self._generate_secret_params(method_name, params)\n",
    "            params.update(secret_params)\n",
    "            \n",
    "        res = requests.get(url, params=params)\n",
    "        if res.status_code != 200:\n",
    "            raise Exception(f'{res.status_code}')\n",
    "        res = res.json()\n",
    "        if res['status'] != 'OK':\n",
    "            raise Exception(res)\n",
    "        return res['result']\n",
    "    \n",
    "    \n",
    "    def get_contests(self, gym: bool = False):\n",
    "        method_name = 'contest.list'\n",
    "        params = {'gym': gym}\n",
    "        contests = self._get_data(method_name, params)\n",
    "        contests = [Contest(contest) for contest in contests]\n",
    "        return contests\n",
    "    \n",
    "    \n",
    "    def get_problems(self, tags=None):\n",
    "        method_name = 'problemset.problems'\n",
    "        if isinstance(tags, str):\n",
    "            tags = [tags]\n",
    "        if tags:\n",
    "            tags = \";\".join(tags)\n",
    "        params = {'tags': tags}\n",
    "        res = self._get_data(method_name, params)\n",
    "        problems = [Problem(problem) for problem in res['problems']]\n",
    "        return problems\n",
    "    \n",
    "    \n",
    "    def get_user_info(self, handles):\n",
    "        method_name = 'user.info'\n",
    "        if isinstance(handles, str):\n",
    "            handles = [handles]\n",
    "        handles = \";\".join(handles)\n",
    "        params = {'handles': handles}\n",
    "        users = self._get_data(method_name, params)\n",
    "        users = [User(user) for user in users]\n",
    "        return users\n",
    "    \n",
    "    \n",
    "    def get_user_ratings(self, handle: str):\n",
    "        method_name = 'user.rating'\n",
    "        params = {'handle': handle}\n",
    "        user_ratings = self._get_data(method_name, params)\n",
    "        user_ratings = [UserRating(rating) for rating in user_ratings]\n",
    "        return user_ratings\n",
    "    \n",
    "    \n",
    "    def get_user_submissions(self, handle: str):\n",
    "        # from and count\n",
    "        method_name = 'user.status'\n",
    "        params = {'handle': handle}\n",
    "        submissions = self._get_data(method_name, params)\n",
    "        submissions = [Submission(submission) for submission in submissions]\n",
    "        return submissions\n",
    "    \n",
    "    \n",
    "    def get_blog_comments(self, blog_id: int) -> Comment:\n",
    "        method_name = 'blogEntry.comments'\n",
    "        params = {'blogEntryId': blog_id}\n",
    "        comments = self._get_data(method_name, params)\n",
    "        comments = [Comment(comment) for comment in comments]\n",
    "        return comments\n",
    "    \n",
    "    \n",
    "    def get_blog_entry(self, blog_id: int) -> BlogEntry:\n",
    "        method_name = 'blogEntry.view'\n",
    "        params = {'blogEntryId': blog_id}\n",
    "        blog = self._get_data(method_name, params)\n",
    "        blog = BlogEntry(blog)\n",
    "        return blog\n",
    "    \n",
    "    \n",
    "    def get_contest_standings(self, contest_id: int):\n",
    "        # from , count, show_unofficial remaining\n",
    "        method_name = 'contest.standings'\n",
    "        params = {'contestId': contest_id}\n",
    "        standings = self._get_data(method_name, params)\n",
    "        standings = Standings(standings)\n",
    "        return standings\n",
    "    \n",
    "    \n",
    "    def get_user_friends(self, online=False) -> list:\n",
    "        method_name = 'user.friends'\n",
    "        params = {'onlyOnline': online}\n",
    "        friends = self._get_data(method_name, params)\n",
    "        return friends\n",
    "    \n",
    "    def get_contest_hacks(self, contest_id):\n",
    "        method_name = 'contest.hacks'\n",
    "        params = {'contestId': contest_id}\n",
    "        hacks = self._get_data(method_name, params)\n",
    "        hacks = [Hack(hack) for hack in hacks]\n",
    "        return hacks\n",
    "    \n",
    "    def get_contest_rating_changes(self, contest_id):\n",
    "        method_name = 'contest.ratingChanges'\n",
    "        params = {'contestId': contest_id}\n",
    "        rating_changes = self._get_data(method_name, params)\n",
    "        rating_changes = [RatingChange(r) for r in rating_changes]\n",
    "        return rating_changes\n",
    "    \n",
    "    \n",
    "    def get_recent_submissions(self, count=10):\n",
    "        method_name = 'problemset.recentStatus'\n",
    "        params = {'count': count}\n",
    "        recent_subs = self._get_data(method_name, params)\n",
    "        recent_subs = [Submission(sub) for sub in recent_subs]\n",
    "        return recent_subs\n",
    "    \n",
    "    \n",
    "    def get_recent_action(self, max_count=10):\n",
    "        method_name = 'recentActions'\n",
    "        params = {'maxCount': max_count}\n",
    "        recent_action = self._get_data(method_name, params)\n",
    "        recent_action = [RecentAction(r) for r in recent_action]\n",
    "        return recent_action\n",
    "    \n",
    "    \n",
    "    def get_user_blog_entry(self, handle):\n",
    "        method_name = 'user.blogEntries'\n",
    "        params = {'handle': handle}\n",
    "        blog_entry = self._get_data(method_name, params)\n",
    "        blog_entry = [BlogEntry(blog) for blog in blog_entry]\n",
    "        return blog_entry\n",
    "    \n",
    "    \n",
    "    def get_rating_list(self, active_only=False):\n",
    "        method_name = 'user.ratedList'\n",
    "        params = {'activeOnly': active_only}\n",
    "        rating = self._get_data(method_name, params)\n",
    "        rating = [User(user) for user in rating]\n",
    "        return rating\n",
    "    \n",
    "    \n",
    "    def get_contest_status(self, contest_id):\n",
    "        # from, count, user\n",
    "        method_name = 'contest.status'\n",
    "        params = {'contestId': contest_id}\n",
    "        submissions = self._get_data(method_name, params)\n",
    "        subsmissons = [Submissions(subs) for subs in submissions]\n",
    "        return submissions"
   ]
  },
  {
   "cell_type": "markdown",
   "id": "a9d70304",
   "metadata": {},
   "source": [
    "## Tests"
   ]
  },
  {
   "cell_type": "code",
   "execution_count": null,
   "id": "bd07f313",
   "metadata": {},
   "outputs": [],
   "source": [
    "#export\n",
    "#hide\n",
    "cf = CFApi()"
   ]
  },
  {
   "cell_type": "code",
   "execution_count": null,
   "id": "7de24384",
   "metadata": {},
   "outputs": [
    {
     "data": {
      "text/plain": [
       "'en'"
      ]
     },
     "execution_count": null,
     "metadata": {},
     "output_type": "execute_result"
    }
   ],
   "source": [
    "cf.lang"
   ]
  },
  {
   "cell_type": "markdown",
   "id": "463a2f8b",
   "metadata": {},
   "source": [
    "#### Get contest"
   ]
  },
  {
   "cell_type": "code",
   "execution_count": null,
   "id": "6f6422c1",
   "metadata": {},
   "outputs": [],
   "source": [
    "#export\n",
    "#hide\n",
    "contests = cf.get_contests()"
   ]
  },
  {
   "cell_type": "code",
   "execution_count": null,
   "id": "aefa0de2",
   "metadata": {},
   "outputs": [],
   "source": [
    "#export\n",
    "#hide\n",
    "contest = list(filter(lambda c: c.id == 1521, contests))[0]"
   ]
  },
  {
   "cell_type": "code",
   "execution_count": null,
   "id": "71c69c18",
   "metadata": {},
   "outputs": [],
   "source": [
    "#export\n",
    "#hide\n",
    "assert isinstance(contest, Contest)"
   ]
  },
  {
   "cell_type": "code",
   "execution_count": null,
   "id": "c86979b5",
   "metadata": {},
   "outputs": [],
   "source": [
    "#export\n",
    "#hide\n",
    "assert contest.id == 1521\n",
    "assert contest.name == 'Codeforces Round #720 (Div. 2)'\n",
    "assert contest.type == 'CF'\n",
    "assert contest.phase == 'FINISHED'\n",
    "assert contest.frozen == False\n",
    "assert contest.duration_seconds == 8100"
   ]
  },
  {
   "cell_type": "markdown",
   "id": "27e05fe0",
   "metadata": {},
   "source": [
    "#### Problems"
   ]
  },
  {
   "cell_type": "code",
   "execution_count": null,
   "id": "b3d5a4b8",
   "metadata": {},
   "outputs": [],
   "source": [
    "problems = cf.get_problems()\n",
    "assert isinstance(problems[0], Problem)"
   ]
  },
  {
   "cell_type": "code",
   "execution_count": null,
   "id": "b791a9a4",
   "metadata": {},
   "outputs": [],
   "source": [
    "problem = list(filter(lambda p: p.contest_id == 1521 and p.index == 'A', problems))[0]"
   ]
  },
  {
   "cell_type": "code",
   "execution_count": null,
   "id": "59f5eea0",
   "metadata": {},
   "outputs": [],
   "source": [
    "assert isinstance(problem, Problem)"
   ]
  },
  {
   "cell_type": "code",
   "execution_count": null,
   "id": "85d8a69a",
   "metadata": {},
   "outputs": [],
   "source": [
    "assert problem.contest_id == 1521\n",
    "assert problem.index == 'A'\n",
    "assert problem.name == 'Nastia and Nearly Good Numbers'\n",
    "assert problem.type == 'PROGRAMMING'\n",
    "assert problem.points == 500.0\n",
    "assert problem.rating == 1000\n",
    "assert problem.tags == ['constructive algorithms', 'math', 'number theory']"
   ]
  },
  {
   "cell_type": "markdown",
   "id": "11ad2837",
   "metadata": {},
   "source": [
    "#### Get Blogs"
   ]
  },
  {
   "cell_type": "code",
   "execution_count": null,
   "id": "2209363c",
   "metadata": {},
   "outputs": [],
   "source": [
    "blog = cf.get_blog_entry('90603')"
   ]
  },
  {
   "cell_type": "code",
   "execution_count": null,
   "id": "ae1e3e7c",
   "metadata": {},
   "outputs": [],
   "source": [
    "assert isinstance(blog, BlogEntry)"
   ]
  },
  {
   "cell_type": "code",
   "execution_count": null,
   "id": "74326b9f",
   "metadata": {},
   "outputs": [],
   "source": [
    "assert blog.id == 90603\n",
    "assert blog.author_handle == 'geekypandey'\n",
    "assert blog.creation_time_seconds == 1620696608\n",
    "assert blog.title == '<p>Codeforces Tracker</p>'\n",
    "assert blog.locale == 'en'"
   ]
  },
  {
   "cell_type": "markdown",
   "id": "0a3ab3a0",
   "metadata": {},
   "source": [
    "#### Blog Comments"
   ]
  },
  {
   "cell_type": "code",
   "execution_count": null,
   "id": "6722ea84",
   "metadata": {},
   "outputs": [],
   "source": [
    "comments = cf.get_blog_comments(90603)"
   ]
  },
  {
   "cell_type": "code",
   "execution_count": null,
   "id": "617c7287",
   "metadata": {},
   "outputs": [],
   "source": [
    "comment = list(filter(lambda c: c.id == 790332, comments))[0]"
   ]
  },
  {
   "cell_type": "code",
   "execution_count": null,
   "id": "0bcf1ff6",
   "metadata": {},
   "outputs": [],
   "source": [
    "assert isinstance(comment, Comment)"
   ]
  },
  {
   "cell_type": "code",
   "execution_count": null,
   "id": "ff96216d",
   "metadata": {},
   "outputs": [
    {
     "data": {
      "text/plain": [
       "'<div class=\"ttypography\"><p><i>Auto comment: topic has been updated by <a class=\"rated-user user-gray\" href=\"/profile/geekypandey\" title=\"Новичок geekypandey\">geekypandey</a> (<a href=\"/topic/91213/en3\">previous revision</a>, <a href=\"/topic/91213/en4\">new revision</a>, <a href=\"/topic/91213/diff/en3/en4\">compare</a>).</i></p></div>'"
      ]
     },
     "execution_count": null,
     "metadata": {},
     "output_type": "execute_result"
    }
   ],
   "source": [
    "comment.text"
   ]
  },
  {
   "cell_type": "code",
   "execution_count": null,
   "id": "be43d1df",
   "metadata": {},
   "outputs": [],
   "source": [
    "assert comment.id == 790332\n",
    "assert comment.creation_time_seconds == 1620704584\n",
    "assert comment.commentator_handle == 'geekypandey'\n",
    "assert comment.locale == 'en'\n",
    "assert comment.text == '<div class=\"ttypography\"><p><i>Auto comment: topic has been updated by <a class=\"rated-user user-gray\" href=\"/profile/geekypandey\" title=\"Новичок geekypandey\">geekypandey</a> (<a href=\"/topic/91213/en3\">previous revision</a>, <a href=\"/topic/91213/en4\">new revision</a>, <a href=\"/topic/91213/diff/en3/en4\">compare</a>).</i></p></div>'\n",
    "assert comment.parent_comment_id is None"
   ]
  },
  {
   "cell_type": "markdown",
   "id": "43e4b964",
   "metadata": {},
   "source": [
    "#### Contest hacks"
   ]
  },
  {
   "cell_type": "markdown",
   "id": "7d14ab04",
   "metadata": {},
   "source": [
    "500 status_code check"
   ]
  },
  {
   "cell_type": "code",
   "execution_count": null,
   "id": "cac29aca",
   "metadata": {},
   "outputs": [],
   "source": [
    "hacks = cf.get_contest_hacks(1521)"
   ]
  },
  {
   "cell_type": "code",
   "execution_count": null,
   "id": "838dfe08",
   "metadata": {},
   "outputs": [],
   "source": [
    "hack = list(filter(lambda x: x.id == 736732, hacks))[0]"
   ]
  },
  {
   "cell_type": "code",
   "execution_count": null,
   "id": "e1512bea",
   "metadata": {},
   "outputs": [
    {
     "data": {
      "text/plain": [
       "{'id': 736732, 'creation_time_seconds': 1620399713, 'hacker': {'contest_id': 1521, 'members': [{'handle': 'codeguptaji'}], 'participant_type': 'CONTESTANT', 'team_id': None, 'team_name': None, 'ghost': False, 'room': 456, 'start_time_seconds': 1620398100}, 'defender': {'contest_id': 1521, 'members': [{'handle': 'psycho437'}], 'participant_type': 'CONTESTANT', 'team_id': None, 'team_name': None, 'ghost': False, 'room': 456, 'start_time_seconds': 1620398100}, 'verdict': 'INVALID_INPUT', 'problem': {'contest_id': 1521, 'problemset_name': None, 'index': 'A', 'name': 'Nastia and Nearly Good Numbers', 'type': 'PROGRAMMING', 'points': 500.0, 'rating': 1000, 'tags': ['constructive algorithms', 'math', 'number theory']}, 'test': None, 'judge_protocol': {'protocol': \"Validator 'validator.exe' returns exit code 3 [FAIL Expected EOLN (stdin, line 1)]\", 'manual': 'false', 'verdict': 'Invalid input'}}"
      ]
     },
     "execution_count": null,
     "metadata": {},
     "output_type": "execute_result"
    }
   ],
   "source": [
    "hack"
   ]
  },
  {
   "cell_type": "code",
   "execution_count": null,
   "id": "d03fd96f",
   "metadata": {},
   "outputs": [],
   "source": [
    "assert isinstance(hack, Hack)"
   ]
  },
  {
   "cell_type": "code",
   "execution_count": null,
   "id": "7026b12d",
   "metadata": {},
   "outputs": [],
   "source": [
    "assert hack.id == 736732\n",
    "assert hack.creation_time_seconds == 1620399713\n",
    "assert isinstance(hack.hacker, Party)\n",
    "assert hack.verdict == 'INVALID_INPUT'\n",
    "assert isinstance(hack.problem, Problem)\n",
    "assert hack.problem.rating == 1000\n",
    "assert hack.problem.tags == ['constructive algorithms', 'math', 'number theory']"
   ]
  },
  {
   "cell_type": "code",
   "execution_count": null,
   "id": "473ab8e7",
   "metadata": {},
   "outputs": [
    {
     "name": "stdout",
     "output_type": "stream",
     "text": [
      "{'id': 736732, 'creation_time_seconds': 1620399713, 'hacker': {'contest_id': 1521, 'members': [{'handle': 'codeguptaji'}], 'participant_type': 'CONTESTANT', 'team_id': None, 'team_name': None, 'ghost': False, 'room': 456, 'start_time_seconds': 1620398100}, 'defender': {'contest_id': 1521, 'members': [{'handle': 'psycho437'}], 'participant_type': 'CONTESTANT', 'team_id': None, 'team_name': None, 'ghost': False, 'room': 456, 'start_time_seconds': 1620398100}, 'verdict': 'INVALID_INPUT', 'problem': {'contest_id': 1521, 'problemset_name': None, 'index': 'A', 'name': 'Nastia and Nearly Good Numbers', 'type': 'PROGRAMMING', 'points': 500.0, 'rating': 1000, 'tags': ['constructive algorithms', 'math', 'number theory']}, 'test': None, 'judge_protocol': {'protocol': \"Validator 'validator.exe' returns exit code 3 [FAIL Expected EOLN (stdin, line 1)]\", 'manual': 'false', 'verdict': 'Invalid input'}}\n"
     ]
    }
   ],
   "source": [
    "from pprint import pprint\n",
    "pprint(hack)"
   ]
  },
  {
   "cell_type": "markdown",
   "id": "b03431ae",
   "metadata": {},
   "source": [
    "#### Contest Rating Changes"
   ]
  },
  {
   "cell_type": "code",
   "execution_count": null,
   "id": "e3326620",
   "metadata": {},
   "outputs": [],
   "source": [
    "contest_rating_changes = cf.get_contest_rating_changes(1511)"
   ]
  },
  {
   "cell_type": "code",
   "execution_count": null,
   "id": "0a88c0de",
   "metadata": {},
   "outputs": [
    {
     "data": {
      "text/plain": [
       "{'contest_id': 1511, 'contest_name': 'Educational Codeforces Round 107 (Rated for Div. 2)', 'handle': 'Ideal_End', 'rank': 1, 'rating_update_time_seconds': 1618245300, 'old_rating': 924, 'new_rating': 1619}"
      ]
     },
     "execution_count": null,
     "metadata": {},
     "output_type": "execute_result"
    }
   ],
   "source": [
    "contest_rating_changes[0]"
   ]
  },
  {
   "cell_type": "code",
   "execution_count": null,
   "id": "517f76f3",
   "metadata": {},
   "outputs": [],
   "source": [
    "user_rating_change = list(filter(lambda x: x.handle == 'geekypandey', contest_rating_changes))[0]"
   ]
  },
  {
   "cell_type": "code",
   "execution_count": null,
   "id": "893d182c",
   "metadata": {},
   "outputs": [
    {
     "data": {
      "text/plain": [
       "{'contest_id': 1511, 'contest_name': 'Educational Codeforces Round 107 (Rated for Div. 2)', 'handle': 'geekypandey', 'rank': 9024, 'rating_update_time_seconds': 1618245300, 'old_rating': 1174, 'new_rating': 1111}"
      ]
     },
     "execution_count": null,
     "metadata": {},
     "output_type": "execute_result"
    }
   ],
   "source": [
    "user_rating_change"
   ]
  },
  {
   "cell_type": "code",
   "execution_count": null,
   "id": "3de1a503",
   "metadata": {},
   "outputs": [],
   "source": [
    "assert user_rating_change.contest_id == 1511\n",
    "assert user_rating_change.contest_name == 'Educational Codeforces Round 107 (Rated for Div. 2)'\n",
    "assert user_rating_change.handle == 'geekypandey'\n",
    "assert user_rating_change.rank == 9024\n",
    "assert user_rating_change.old_rating == 1174\n",
    "assert user_rating_change.new_rating == 1111"
   ]
  },
  {
   "cell_type": "markdown",
   "id": "aa821f66",
   "metadata": {},
   "source": [
    "#### Contest Standings"
   ]
  },
  {
   "cell_type": "code",
   "execution_count": null,
   "id": "40a81d54",
   "metadata": {},
   "outputs": [],
   "source": [
    "standings = cf.get_contest_standings(1521)"
   ]
  },
  {
   "cell_type": "code",
   "execution_count": null,
   "id": "ba8ac368",
   "metadata": {},
   "outputs": [],
   "source": []
  }
 ],
 "metadata": {
  "kernelspec": {
   "display_name": "codeforces_python_client",
   "language": "python",
   "name": "codeforces_python_client"
  }
 },
 "nbformat": 4,
 "nbformat_minor": 5
}
