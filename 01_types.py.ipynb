{
 "cells": [
  {
   "cell_type": "code",
   "execution_count": null,
   "id": "563a3325",
   "metadata": {},
   "outputs": [],
   "source": [
    "#hide\n",
    "#default_exp types"
   ]
  },
  {
   "cell_type": "markdown",
   "id": "791d539d",
   "metadata": {},
   "source": [
    "# Types\n",
    "> Different `classes` for holding data received from the API call  "
   ]
  },
  {
   "cell_type": "code",
   "execution_count": null,
   "id": "0bd3a35f",
   "metadata": {},
   "outputs": [],
   "source": [
    "#hide\n",
    "from nbdev.showdoc import *"
   ]
  },
  {
   "cell_type": "code",
   "execution_count": null,
   "id": "a10c9b47",
   "metadata": {},
   "outputs": [],
   "source": [
    "#export\n",
    "import datetime\n",
    "import inflection"
   ]
  },
  {
   "cell_type": "markdown",
   "id": "28155885",
   "metadata": {},
   "source": [
    "`inflection` library is used to convert CamelCasing to underscore(or snake casing)"
   ]
  },
  {
   "cell_type": "markdown",
   "id": "5f88f692",
   "metadata": {},
   "source": [
    "## Base Class"
   ]
  },
  {
   "cell_type": "markdown",
   "id": "b1f8e004",
   "metadata": {},
   "source": [
    "The task to hold the data such that it could be accessed using the dot(.) operator, even if it is nested.\n",
    "\n",
    "> E.g.,\n",
    "```\n",
    "student = {\n",
    "    'firstName': 'Ramesh',\n",
    "    'lastName': 'Shukla',\n",
    "    'marks': {\n",
    "        'maths': 90,\n",
    "        'science': 90,\n",
    "        'english': 65\n",
    "    }\n",
    "}\n",
    "```\n",
    "\n",
    "The data should be accessible as:\n",
    "- For firstName : student.first_name\n",
    "- For maths marks: student.marks.maths"
   ]
  },
  {
   "cell_type": "markdown",
   "id": "5f86b190",
   "metadata": {},
   "source": [
    "Also the data type should be verified and converted accordingly."
   ]
  },
  {
   "cell_type": "code",
   "execution_count": null,
   "id": "3cf31c5f",
   "metadata": {},
   "outputs": [],
   "source": [
    "#hide\n",
    "#export\n",
    "class Base:\n",
    "    \"\"\"\n",
    "    Supports the repetitive operation.\n",
    "    _fields attribute must be set for setting the attribute of the instance.\n",
    "    _fields must be a dictionary, with the key as name of variable and value as the type of variable.\n",
    "    \"\"\"\n",
    "    _fields = None\n",
    "    def __init__(self, content: dict) -> None:\n",
    "        self.init(content)\n",
    "        \n",
    "    def init(self, content: dict) -> None:\n",
    "        \"\"\"Sets the attributes of the instance based on _fields dictionary.\"\"\"\n",
    "        if not self._fields:\n",
    "            raise ValueError('_fields is not set for the class')\n",
    "        for field, val_type in self._fields.items():\n",
    "            val = content.get(field)\n",
    "            # if val exists, change it to its respective type\n",
    "            if val and val_type is not None:\n",
    "                val = val_type(val)\n",
    "            setattr(self, inflection.underscore(field), val)\n",
    "            \n",
    "    def __repr__(self):\n",
    "        return str(self.__dict__)"
   ]
  },
  {
   "cell_type": "markdown",
   "id": "fb0f92ad",
   "metadata": {},
   "source": [
    "### Example"
   ]
  },
  {
   "cell_type": "markdown",
   "id": "17530c55",
   "metadata": {},
   "source": [
    "Student class inherits from Base class and sets the `_fields` dictionary."
   ]
  },
  {
   "cell_type": "code",
   "execution_count": null,
   "id": "fca7f0da",
   "metadata": {},
   "outputs": [],
   "source": [
    "class Student(Base):\n",
    "    _fields = {\n",
    "        'firstName': str,\n",
    "        'lastName': str,\n",
    "        'place': str,\n",
    "        'id': int,\n",
    "        'marks': dict,\n",
    "    }"
   ]
  },
  {
   "cell_type": "markdown",
   "id": "c08f22e1",
   "metadata": {},
   "source": [
    "Information of student"
   ]
  },
  {
   "cell_type": "code",
   "execution_count": null,
   "id": "40c7e657",
   "metadata": {},
   "outputs": [],
   "source": [
    "data = {\n",
    "    'id': 1,\n",
    "    'firstName': 'Anurag',\n",
    "    'lastName': 'Pandey',\n",
    "    'place': 'Pune',\n",
    "    'marks': {\n",
    "        'maths': 50,\n",
    "        'physics': 49,\n",
    "        'chemistry': 48\n",
    "    }\n",
    "}"
   ]
  },
  {
   "cell_type": "code",
   "execution_count": null,
   "id": "5fb857e0",
   "metadata": {},
   "outputs": [],
   "source": [
    "student = Student(data)"
   ]
  },
  {
   "cell_type": "markdown",
   "id": "b6362345",
   "metadata": {},
   "source": [
    "The keys of `_fields` dictionary are set as attribute of the instance. "
   ]
  },
  {
   "cell_type": "code",
   "execution_count": null,
   "id": "cb5f440a",
   "metadata": {},
   "outputs": [],
   "source": [
    "assert isinstance(student, Student)\n",
    "assert isinstance(student.first_name, str)\n",
    "assert isinstance(student.last_name, str)\n",
    "assert isinstance(student.place, str)\n",
    "assert isinstance(student.id, int)\n",
    "assert isinstance(student.marks, dict)\n",
    "assert student.id == 1\n",
    "assert student.first_name == 'Anurag'\n",
    "assert student.last_name == 'Pandey'\n",
    "assert student.place == 'Pune'\n",
    "assert student.marks['maths'] == 50"
   ]
  },
  {
   "cell_type": "code",
   "execution_count": null,
   "id": "5386f0e4",
   "metadata": {},
   "outputs": [],
   "source": [
    "#hide\n",
    "from collections import namedtuple"
   ]
  },
  {
   "cell_type": "code",
   "execution_count": null,
   "id": "7837e62f",
   "metadata": {},
   "outputs": [],
   "source": [
    "#hide\n",
    "Marks = namedtuple('Marks' ,['maths', 'physics', 'chemistry'])\n",
    "class NewStudent(Base):\n",
    "    _fields = {\n",
    "        'firstName': str,\n",
    "        'lastName': str,\n",
    "        'place': str,\n",
    "        'id': int,\n",
    "        'marks': Marks,\n",
    "    }"
   ]
  },
  {
   "cell_type": "code",
   "execution_count": null,
   "id": "c6600de7",
   "metadata": {},
   "outputs": [],
   "source": [
    "# #hide\n",
    "# data = {\n",
    "#     'id': 1,\n",
    "#     'firstName': 'Anurag',\n",
    "#     'lastName': 'Pandey',\n",
    "#     'place': 'Pune',\n",
    "#     'marks': {\n",
    "#         'maths': 50,\n",
    "#         'physics': 49,\n",
    "#         'chemistry': 48\n",
    "#     }\n",
    "# }\n",
    "\n",
    "# stud = NewStudent(data)  # Error here\n",
    "# assert student.marks.maths == 50"
   ]
  },
  {
   "cell_type": "markdown",
   "id": "55e3a3aa",
   "metadata": {},
   "source": [
    "This doesn't work because the namedtuple doesn't know how to use the values from dictionary."
   ]
  },
  {
   "cell_type": "code",
   "execution_count": null,
   "id": "2de775f9",
   "metadata": {},
   "outputs": [],
   "source": [
    "#hide\n",
    "marks = Marks(**data['marks'])"
   ]
  },
  {
   "cell_type": "code",
   "execution_count": null,
   "id": "be1ce53a",
   "metadata": {},
   "outputs": [
    {
     "name": "stdout",
     "output_type": "stream",
     "text": [
      "50 49 48\n"
     ]
    }
   ],
   "source": [
    "#hide\n",
    "print(marks.maths, marks.physics, marks.chemistry)"
   ]
  },
  {
   "cell_type": "markdown",
   "id": "1574ba5a",
   "metadata": {},
   "source": [
    "This works as we are explicity doing it for the namedtuple."
   ]
  },
  {
   "cell_type": "markdown",
   "id": "31e7af32",
   "metadata": {},
   "source": [
    "## Contest"
   ]
  },
  {
   "cell_type": "markdown",
   "id": "6ba1bfea",
   "metadata": {},
   "source": [
    "Holds the contest data."
   ]
  },
  {
   "cell_type": "code",
   "execution_count": null,
   "id": "404d9da9",
   "metadata": {},
   "outputs": [],
   "source": [
    "#exports\n",
    "class Contest(Base):\n",
    "    _fields = {\n",
    "        'id': int,\n",
    "        'name': str,\n",
    "        'type': str,\n",
    "        'phase': str,\n",
    "        'frozen': bool,\n",
    "        'durationSeconds': int,\n",
    "        'startTimeSeconds': int,\n",
    "        'relativeTimeSeconds': int,\n",
    "        'preparedBy': int,\n",
    "        'websiteUrl': str,\n",
    "        'description': str,\n",
    "        'difficulty': int,\n",
    "        'kind': str,\n",
    "        'icpcRegion': str,\n",
    "        'country': str,\n",
    "        'city': str,\n",
    "        'season': str,\n",
    "    }\n",
    "    \n",
    "    def __init__(self, contest):\n",
    "        super().__init__(contest)\n",
    "        self.duration_hours = self.duration_seconds / (60*60)\n",
    "        if self.start_time_seconds:\n",
    "            self.start_time = datetime.datetime.fromtimestamp(self.start_time_seconds)\n",
    "            self.end_time = self.start_time + datetime.timedelta(seconds=self.duration_seconds)"
   ]
  },
  {
   "cell_type": "markdown",
   "id": "20be82e5",
   "metadata": {},
   "source": [
    "## Problem"
   ]
  },
  {
   "cell_type": "code",
   "execution_count": null,
   "id": "3f5caf7b",
   "metadata": {},
   "outputs": [],
   "source": [
    "#exports\n",
    "class Problem(Base):\n",
    "    _fields = {\n",
    "        'contestId': int,\n",
    "        'problemsetName': str,\n",
    "        'index': str,\n",
    "        'name': str,\n",
    "        'type': str,\n",
    "        'points': float,\n",
    "        'rating': int,\n",
    "        'tags': list,\n",
    "    }"
   ]
  },
  {
   "cell_type": "markdown",
   "id": "b324c5aa",
   "metadata": {},
   "source": [
    "## ProblemStatistics"
   ]
  },
  {
   "cell_type": "code",
   "execution_count": null,
   "id": "1b971463",
   "metadata": {},
   "outputs": [],
   "source": [
    "#export\n",
    "class ProblemStatistics(Base):\n",
    "    _fields = {\n",
    "        'contestId': int,\n",
    "        'index': str,\n",
    "        'solvedCount': int\n",
    "    }"
   ]
  },
  {
   "cell_type": "markdown",
   "id": "09a343dd",
   "metadata": {},
   "source": [
    "## User"
   ]
  },
  {
   "cell_type": "code",
   "execution_count": null,
   "id": "ccf8ad96",
   "metadata": {},
   "outputs": [],
   "source": [
    "#export\n",
    "class User(Base):\n",
    "    _fields = {\n",
    "        'handle': str,\n",
    "        'email': str,\n",
    "        'vkId': str,\n",
    "        'openId': str,\n",
    "        'firstName': str,\n",
    "        'lastName': str,\n",
    "        'country': str,\n",
    "        'city': str,\n",
    "        'organization': str,\n",
    "        'contribution': int,\n",
    "        'rank': str,\n",
    "        'rating': int,\n",
    "        'maxRank': str,\n",
    "        'maxRating': int,\n",
    "        'lastOnlineTimeSeconds': int,\n",
    "        'registrationTimeSeconds': int,\n",
    "        'friendOfCount': int,\n",
    "        'avatar': str,\n",
    "        'titlePhoto': str\n",
    "    }"
   ]
  },
  {
   "cell_type": "markdown",
   "id": "3c403695",
   "metadata": {},
   "source": [
    "## UserRating"
   ]
  },
  {
   "cell_type": "code",
   "execution_count": null,
   "id": "a4f726bc",
   "metadata": {},
   "outputs": [],
   "source": [
    "#export\n",
    "class UserRating(Base):\n",
    "    _fields = {\n",
    "        'contestId': int,\n",
    "        'contestName': str,\n",
    "        'handle': str,\n",
    "        'rank': int,\n",
    "        'ratingUpdateTimeSeconds': int,\n",
    "        'oldRating': int,\n",
    "        'newRating': int\n",
    "    }"
   ]
  },
  {
   "cell_type": "markdown",
   "id": "3c761520",
   "metadata": {},
   "source": [
    "## BlogEntry"
   ]
  },
  {
   "cell_type": "code",
   "execution_count": null,
   "id": "b1ef8634",
   "metadata": {},
   "outputs": [],
   "source": [
    "#export\n",
    "class BlogEntry(Base):\n",
    "    _fields = {\n",
    "        'id': int,\n",
    "        'originalLocale': str,\n",
    "        'creationTimeSeconds': int,\n",
    "        'authorHandle': str,\n",
    "        'title': str,\n",
    "        'content': str,\n",
    "        'locale': str,\n",
    "        'modificationTimeSeconds': int,\n",
    "        'allowViewHistory': bool,\n",
    "        'tags': list,\n",
    "        'rating': int\n",
    "    }"
   ]
  },
  {
   "cell_type": "markdown",
   "id": "05a5cbd8",
   "metadata": {},
   "source": [
    "## Comment"
   ]
  },
  {
   "cell_type": "code",
   "execution_count": null,
   "id": "371fcffd",
   "metadata": {},
   "outputs": [],
   "source": [
    "#export\n",
    "class Comment(Base):\n",
    "    _fields = {\n",
    "        'id': int,\n",
    "        'creationTimeSeconds': int,\n",
    "        'commentatorHandle': str,\n",
    "        'locale': str,\n",
    "        'text': str,\n",
    "        'parentCommentId': int,\n",
    "        'rating': int\n",
    "    }"
   ]
  },
  {
   "cell_type": "markdown",
   "id": "d1155aff",
   "metadata": {},
   "source": [
    "## Party"
   ]
  },
  {
   "cell_type": "code",
   "execution_count": null,
   "id": "deb7d12f",
   "metadata": {},
   "outputs": [],
   "source": [
    "#export\n",
    "class Party(Base):\n",
    "    _fields = {\n",
    "        'contestId': int,\n",
    "        'members': list,\n",
    "        'participantType': str,\n",
    "        'teamId': int,\n",
    "        'teamName': str,\n",
    "        'ghost': bool,\n",
    "        'room': int,\n",
    "        'startTimeSeconds': int\n",
    "    }"
   ]
  },
  {
   "cell_type": "markdown",
   "id": "33f539d2",
   "metadata": {},
   "source": [
    "## ProblemResult"
   ]
  },
  {
   "cell_type": "code",
   "execution_count": null,
   "id": "61eec0b8",
   "metadata": {},
   "outputs": [],
   "source": [
    "#export\n",
    "class ProblemResult(Base):\n",
    "    _fields = {\n",
    "        'points': float,\n",
    "        'penalty': int,\n",
    "        'rejectedAttemptCount': int,\n",
    "        'type': str,\n",
    "        'bestSubmissionTimeSeconds': int\n",
    "    }"
   ]
  },
  {
   "cell_type": "markdown",
   "id": "4b576399",
   "metadata": {},
   "source": [
    "## RecentAction"
   ]
  },
  {
   "cell_type": "code",
   "execution_count": null,
   "id": "1f359f3b",
   "metadata": {},
   "outputs": [],
   "source": [
    "#export \n",
    "class RecentAction(Base):\n",
    "    _fields = {\n",
    "        'timeSeconds': int,\n",
    "        'blogEntry': BlogEntry,\n",
    "        'comment': Comment\n",
    "    }"
   ]
  },
  {
   "cell_type": "markdown",
   "id": "bd5df7e6",
   "metadata": {},
   "source": [
    "## Submission"
   ]
  },
  {
   "cell_type": "code",
   "execution_count": null,
   "id": "d4e1556a",
   "metadata": {},
   "outputs": [],
   "source": [
    "#export\n",
    "class Submission(Base):\n",
    "    _fields = {\n",
    "        'id': int,\n",
    "        'contestId': int,\n",
    "        'creationTimeSeconds': int,\n",
    "        'relativeTimeSeconds': int,\n",
    "        'problem': Problem,\n",
    "        'author': Party,\n",
    "        'programmingLanguage': str,\n",
    "        'verdict': str,\n",
    "        'testset': str,\n",
    "        'passedTestCount': int,\n",
    "        'timeConsumedMillis': int,\n",
    "        'memoryConsumedBytes': int,\n",
    "        'points': float\n",
    "    }"
   ]
  },
  {
   "cell_type": "markdown",
   "id": "49272d04",
   "metadata": {},
   "source": [
    "## RanklistRow"
   ]
  },
  {
   "cell_type": "code",
   "execution_count": null,
   "id": "a00e09fb",
   "metadata": {},
   "outputs": [],
   "source": [
    "#export\n",
    "class RanklistRow(Base):\n",
    "    _fields = {\n",
    "        'party': Party,\n",
    "        'rank': int,\n",
    "        'points': float,\n",
    "        'penalty': int,\n",
    "        'successfulHackCount': int,\n",
    "        'unsuccessfulHackCount': int,\n",
    "        'problemResults': list,\n",
    "        'lastSubmissionTimeSeconds': int\n",
    "    }"
   ]
  },
  {
   "cell_type": "markdown",
   "id": "52ce6cef",
   "metadata": {},
   "source": [
    "## Standings"
   ]
  },
  {
   "cell_type": "code",
   "execution_count": null,
   "id": "3d225923",
   "metadata": {},
   "outputs": [],
   "source": [
    "#export\n",
    "class Standings(Base):\n",
    "    _fields = {\n",
    "        'contest': Contest,\n",
    "        'problems': list,\n",
    "        'rows': list,\n",
    "    }"
   ]
  },
  {
   "cell_type": "markdown",
   "id": "d8227094",
   "metadata": {},
   "source": [
    "## Hack"
   ]
  },
  {
   "cell_type": "code",
   "execution_count": null,
   "id": "cd27ddb3",
   "metadata": {},
   "outputs": [],
   "source": [
    "#export\n",
    "class Hack(Base):\n",
    "    _fields = {\n",
    "        'id': int,\n",
    "        'creationTimeSeconds': int,\n",
    "        'hacker': Party,\n",
    "        'defender': Party,\n",
    "        'verdict': str,\n",
    "        'problem': Problem,\n",
    "        'test': str,\n",
    "        'judgeProtocol': dict\n",
    "    }"
   ]
  },
  {
   "cell_type": "markdown",
   "id": "c20bd653",
   "metadata": {},
   "source": [
    "## RatingChange"
   ]
  },
  {
   "cell_type": "code",
   "execution_count": null,
   "id": "e7901dc5",
   "metadata": {},
   "outputs": [],
   "source": [
    "#export\n",
    "class RatingChange(Base):\n",
    "    _fields = {\n",
    "        'contestId': int,\n",
    "        'contestName': str,\n",
    "        'handle': str,\n",
    "        'rank': int,\n",
    "        'ratingUpdateTimeSeconds': int,\n",
    "        'oldRating': int,\n",
    "        'newRating': int\n",
    "    }"
   ]
  }
 ],
 "metadata": {
  "kernelspec": {
   "display_name": "codeforces_python_client",
   "language": "python",
   "name": "codeforces_python_client"
  }
 },
 "nbformat": 4,
 "nbformat_minor": 5
}
